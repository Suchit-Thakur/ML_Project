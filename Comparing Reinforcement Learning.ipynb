{
 "cells": [
  {
   "cell_type": "code",
   "execution_count": 2,
   "id": "b68bda78-2b7f-47f6-bd52-19d4cac9e8d7",
   "metadata": {},
   "outputs": [],
   "source": [
    "# Implement Q-learning\n",
    "import numpy as np\n",
    "\n",
    "# Define the grid size and actions\n",
    "grid_size = 5\n",
    "n_actions = 4  # Actions: up, down, left, right\n",
    "\n",
    "# Initialize the Q-table with zeros\n",
    "Q_table = np.zeros((grid_size * grid_size, n_actions))"
   ]
  },
  {
   "cell_type": "code",
   "execution_count": 4,
   "id": "10736088-e609-453e-8031-1836a92853a5",
   "metadata": {},
   "outputs": [],
   "source": [
    "alpha = 0.1  # Learning rate\n",
    "gamma = 0.9  # Discount factor for future rewards\n",
    "epsilon = 0.1  # Exploration rate for epsilon-greedy policy"
   ]
  },
  {
   "cell_type": "code",
   "execution_count": 6,
   "id": "ef3f33b8-04a6-472b-87c9-bff6839dc61b",
   "metadata": {},
   "outputs": [],
   "source": [
    "# Reward matrix for the grid environment\n",
    "rewards = np.full((grid_size * grid_size,), -1)  # -1 for every state\n",
    "rewards[24] = 10  # Goal state\n",
    "rewards[12] = -10  # Pitfall state"
   ]
  },
  {
   "cell_type": "code",
   "execution_count": 8,
   "id": "e9a35c70-370b-45a1-94eb-1afda9647e5c",
   "metadata": {},
   "outputs": [],
   "source": [
    "def epsilon_greedy_action(Q_table, state, epsilon):\n",
    "    if np.random.uniform(0, 1) < epsilon:\n",
    "        return np.random.randint(0, n_actions)  # Explore: random action\n",
    "    else:\n",
    "        return np.argmax(Q_table[state])  # Exploit: action with highest Q-value"
   ]
  },
  {
   "cell_type": "code",
   "execution_count": 10,
   "id": "4cbc6774-9cb1-4899-b8da-7968a83d86bb",
   "metadata": {},
   "outputs": [],
   "source": [
    "for episode in range(1000):\n",
    "    state = np.random.randint(0, grid_size * grid_size)  # Start in a random state\n",
    "    done = False\n",
    "    while not done:\n",
    "        action = epsilon_greedy_action(Q_table, state, epsilon)\n",
    "        next_state = np.random.randint(0, grid_size * grid_size)  # Simulated next state\n",
    "        reward = rewards[next_state]\n",
    "\n",
    "        # Update Q-value using Bellman equation\n",
    "        Q_table[state, action] = Q_table[state, action] + alpha * (reward + gamma * np.max(Q_table[next_state]) - Q_table[state, action])\n",
    "\n",
    "        state = next_state\n",
    "        if next_state == 24 or next_state == 12:\n",
    "            done = True"
   ]
  },
  {
   "cell_type": "code",
   "execution_count": 12,
   "id": "e3b5b431-2955-41f6-9ad7-71f35c3a0b07",
   "metadata": {},
   "outputs": [
    {
     "ename": "ModuleNotFoundError",
     "evalue": "No module named 'tensorflow'",
     "output_type": "error",
     "traceback": [
      "\u001b[1;31m---------------------------------------------------------------------------\u001b[0m",
      "\u001b[1;31mModuleNotFoundError\u001b[0m                       Traceback (most recent call last)",
      "Cell \u001b[1;32mIn[12], line 2\u001b[0m\n\u001b[0;32m      1\u001b[0m \u001b[38;5;66;03m# Implement policy gradients\u001b[39;00m\n\u001b[1;32m----> 2\u001b[0m \u001b[38;5;28;01mimport\u001b[39;00m \u001b[38;5;21;01mtensorflow\u001b[39;00m \u001b[38;5;28;01mas\u001b[39;00m \u001b[38;5;21;01mtf\u001b[39;00m\n\u001b[0;32m      4\u001b[0m \u001b[38;5;66;03m# Define the policy network\u001b[39;00m\n\u001b[0;32m      5\u001b[0m n_states \u001b[38;5;241m=\u001b[39m grid_size \u001b[38;5;241m*\u001b[39m grid_size  \u001b[38;5;66;03m# Number of states in the grid\u001b[39;00m\n",
      "\u001b[1;31mModuleNotFoundError\u001b[0m: No module named 'tensorflow'"
     ]
    }
   ],
   "source": [
    "# Implement policy gradients\n",
    "import tensorflow as tf\n",
    "\n",
    "# Define the policy network\n",
    "n_states = grid_size * grid_size  # Number of states in the grid\n",
    "n_actions = 4  # Up, down, left, right\n",
    "\n",
    "model = tf.keras.Sequential([\n",
    "    tf.keras.layers.Dense(24, activation='relu', input_shape=(n_states,)),\n",
    "    tf.keras.layers.Dense(n_actions, activation='softmax')  # Output action probabilities\n",
    "])\n",
    "\n",
    "# Optimizer for policy network updates\n",
    "optimizer = tf.keras.optimizers.Adam(learning_rate=0.01)"
   ]
  },
  {
   "cell_type": "code",
   "execution_count": 14,
   "id": "e481c738-8277-40b7-bb5f-db936e3fdbf3",
   "metadata": {},
   "outputs": [],
   "source": [
    "def get_action(state):\n",
    "    state_input = tf.one_hot(state, n_states)  # One-hot encoding for state\n",
    "    action_probs = model(state_input[np.newaxis, :])\n",
    "    return np.random.choice(n_actions, p=action_probs.numpy()[0])"
   ]
  },
  {
   "cell_type": "code",
   "execution_count": 16,
   "id": "24d4da02-a95a-4098-98a7-2652b4c9220b",
   "metadata": {},
   "outputs": [
    {
     "ename": "NameError",
     "evalue": "name 'n_states' is not defined",
     "output_type": "error",
     "traceback": [
      "\u001b[1;31m---------------------------------------------------------------------------\u001b[0m",
      "\u001b[1;31mNameError\u001b[0m                                 Traceback (most recent call last)",
      "Cell \u001b[1;32mIn[16], line 7\u001b[0m\n\u001b[0;32m      4\u001b[0m episode_rewards \u001b[38;5;241m=\u001b[39m []  \n\u001b[0;32m      6\u001b[0m \u001b[38;5;28;01mfor\u001b[39;00m episode \u001b[38;5;129;01min\u001b[39;00m \u001b[38;5;28mrange\u001b[39m(\u001b[38;5;241m1000\u001b[39m):\n\u001b[1;32m----> 7\u001b[0m     state \u001b[38;5;241m=\u001b[39m np\u001b[38;5;241m.\u001b[39mrandom\u001b[38;5;241m.\u001b[39mrandint(\u001b[38;5;241m0\u001b[39m, n_states)  \u001b[38;5;66;03m# Start in a random state\u001b[39;00m\n\u001b[0;32m      8\u001b[0m     done \u001b[38;5;241m=\u001b[39m \u001b[38;5;28;01mFalse\u001b[39;00m\n\u001b[0;32m      9\u001b[0m     \u001b[38;5;28;01mwhile\u001b[39;00m \u001b[38;5;129;01mnot\u001b[39;00m done:\n",
      "\u001b[1;31mNameError\u001b[0m: name 'n_states' is not defined"
     ]
    }
   ],
   "source": [
    "# Simulation loop\n",
    "states = []\n",
    "actions = []\n",
    "episode_rewards = []  \n",
    "\n",
    "for episode in range(1000):\n",
    "    state = np.random.randint(0, n_states)  # Start in a random state\n",
    "    done = False\n",
    "    while not done:\n",
    "        action = get_action(state)  # Use the provided function\n",
    "        next_state = np.random.randint(0, n_states)  # Simulated next state\n",
    "        reward = rewards[next_state]  \n",
    "\n",
    "        # Store the state-action-reward trajectory\n",
    "        states.append(state)\n",
    "        actions.append(action)\n",
    "        episode_rewards.append(reward)  \n",
    "\n",
    "        state = next_state\n",
    "        if next_state in {24, 12}:  \n",
    "            done = True"
   ]
  },
  {
   "cell_type": "code",
   "execution_count": 18,
   "id": "d7611d42-5a9b-4328-93a6-8cf518d97e9d",
   "metadata": {},
   "outputs": [],
   "source": [
    "def compute_cumulative_rewards(rewards, gamma=0.99):\n",
    "    cumulative_rewards = np.zeros_like(rewards)\n",
    "    running_add = 0\n",
    "    for t in reversed(range(len(rewards))):\n",
    "        running_add = running_add * gamma + rewards[t]\n",
    "        cumulative_rewards[t] = running_add\n",
    "    return cumulative_rewards"
   ]
  },
  {
   "cell_type": "code",
   "execution_count": 20,
   "id": "4dc15365-1fac-443b-bfd4-c77dbb1c376a",
   "metadata": {},
   "outputs": [],
   "source": [
    "def update_policy(states, actions, rewards):\n",
    "    cumulative_rewards = compute_cumulative_rewards(rewards)\n",
    "\n",
    "    with tf.GradientTape() as tape:\n",
    "        state_inputs = tf.one_hot(states, n_states)  # Convert states to one-hot encoding\n",
    "        action_probs = model(state_inputs)\n",
    "        action_masks = tf.one_hot(actions, n_actions)  # Mask for selected actions\n",
    "        log_probs = tf.reduce_sum(action_masks * tf.math.log(action_probs), axis=1)\n",
    "\n",
    "        # Policy loss is the negative log-probability of the action times the cumulative reward\n",
    "        loss = -tf.reduce_mean(log_probs * cumulative_rewards)\n",
    "\n",
    "    # Apply gradients to update the policy network\n",
    "    grads = tape.gradient(loss, model.trainable_variables)\n",
    "    optimizer.apply_gradients(zip(grads, model.trainable_variables))"
   ]
  },
  {
   "cell_type": "code",
   "execution_count": 22,
   "id": "3f72664e-0131-4b7f-bd73-31def5d301a4",
   "metadata": {},
   "outputs": [
    {
     "ename": "NameError",
     "evalue": "name 'rewards_q_learning' is not defined",
     "output_type": "error",
     "traceback": [
      "\u001b[1;31m---------------------------------------------------------------------------\u001b[0m",
      "\u001b[1;31mNameError\u001b[0m                                 Traceback (most recent call last)",
      "Cell \u001b[1;32mIn[22], line 4\u001b[0m\n\u001b[0;32m      1\u001b[0m \u001b[38;5;28;01mimport\u001b[39;00m \u001b[38;5;21;01mmatplotlib\u001b[39;00m\u001b[38;5;21;01m.\u001b[39;00m\u001b[38;5;21;01mpyplot\u001b[39;00m \u001b[38;5;28;01mas\u001b[39;00m \u001b[38;5;21;01mplt\u001b[39;00m\n\u001b[0;32m      3\u001b[0m \u001b[38;5;66;03m# Example code to visualize rewards over episodes\u001b[39;00m\n\u001b[1;32m----> 4\u001b[0m plt\u001b[38;5;241m.\u001b[39mplot(rewards_q_learning, label\u001b[38;5;241m=\u001b[39m\u001b[38;5;124m'\u001b[39m\u001b[38;5;124mQ-Learning\u001b[39m\u001b[38;5;124m'\u001b[39m)\n\u001b[0;32m      5\u001b[0m plt\u001b[38;5;241m.\u001b[39mplot(rewards_policy_gradients, label\u001b[38;5;241m=\u001b[39m\u001b[38;5;124m'\u001b[39m\u001b[38;5;124mPolicy Gradients\u001b[39m\u001b[38;5;124m'\u001b[39m)\n\u001b[0;32m      6\u001b[0m plt\u001b[38;5;241m.\u001b[39mxlabel(\u001b[38;5;124m'\u001b[39m\u001b[38;5;124mEpisodes\u001b[39m\u001b[38;5;124m'\u001b[39m)\n",
      "\u001b[1;31mNameError\u001b[0m: name 'rewards_q_learning' is not defined"
     ]
    }
   ],
   "source": [
    "import matplotlib.pyplot as plt\n",
    "\n",
    "# Example code to visualize rewards over episodes\n",
    "plt.plot(rewards_q_learning, label='Q-Learning')\n",
    "plt.plot(rewards_policy_gradients, label='Policy Gradients')\n",
    "plt.xlabel('Episodes')\n",
    "plt.ylabel('Cumulative Rewards')\n",
    "plt.legend()\n",
    "plt.show()"
   ]
  },
  {
   "cell_type": "code",
   "execution_count": null,
   "id": "79ec215c-28b9-40ef-a0fc-e5ba512a6a18",
   "metadata": {},
   "outputs": [],
   "source": []
  }
 ],
 "metadata": {
  "kernelspec": {
   "display_name": "Python [conda env:base] *",
   "language": "python",
   "name": "conda-base-py"
  },
  "language_info": {
   "codemirror_mode": {
    "name": "ipython",
    "version": 3
   },
   "file_extension": ".py",
   "mimetype": "text/x-python",
   "name": "python",
   "nbconvert_exporter": "python",
   "pygments_lexer": "ipython3",
   "version": "3.12.7"
  }
 },
 "nbformat": 4,
 "nbformat_minor": 5
}
